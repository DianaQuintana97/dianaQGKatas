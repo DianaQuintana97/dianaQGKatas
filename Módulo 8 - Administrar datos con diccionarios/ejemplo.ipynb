{
 "cells": [
  {
   "cell_type": "markdown",
   "metadata": {},
   "source": [
    "## Introducción a los diccionarios de Python"
   ]
  },
  {
   "cell_type": "code",
   "execution_count": 1,
   "metadata": {},
   "outputs": [],
   "source": [
    "name = 'Earth'\n",
    "moons = 1"
   ]
  },
  {
   "cell_type": "code",
   "execution_count": 2,
   "metadata": {},
   "outputs": [],
   "source": [
    "earth_name = 'Earth'\n",
    "earth_moons = 1\n",
    "\n",
    "jupiter_name = 'Jupiter'\n",
    "jupiter_moons = 79"
   ]
  },
  {
   "cell_type": "markdown",
   "metadata": {},
   "source": [
    "### Creación de un diccionario"
   ]
  },
  {
   "cell_type": "code",
   "execution_count": 3,
   "metadata": {},
   "outputs": [],
   "source": [
    "planet = {\n",
    "    'name': 'Earth',\n",
    "    'moons': 1\n",
    "}"
   ]
  },
  {
   "cell_type": "markdown",
   "metadata": {},
   "source": [
    "### Lectura de los valores de un diccionario"
   ]
  },
  {
   "cell_type": "code",
   "execution_count": 4,
   "metadata": {},
   "outputs": [
    {
     "name": "stdout",
     "output_type": "stream",
     "text": [
      "Earth\n"
     ]
    }
   ],
   "source": [
    "print(planet.get('name'))\n",
    "\n",
    "# Muestra Earth"
   ]
  },
  {
   "cell_type": "code",
   "execution_count": 5,
   "metadata": {},
   "outputs": [
    {
     "name": "stdout",
     "output_type": "stream",
     "text": [
      "Earth\n"
     ]
    }
   ],
   "source": [
    "# planet['name'] es idéntico a usar planet.get('name')\n",
    "print(planet['name'])\n",
    "\n",
    "# Muestra Earth"
   ]
  },
  {
   "cell_type": "code",
   "execution_count": 6,
   "metadata": {},
   "outputs": [
    {
     "ename": "KeyError",
     "evalue": "'wibble'",
     "output_type": "error",
     "traceback": [
      "\u001b[0;31m---------------------------------------------------------------------------\u001b[0m",
      "\u001b[0;31mKeyError\u001b[0m                                  Traceback (most recent call last)",
      "\u001b[1;32m/home/gato/personalProyects/CursoIntroPython-main/Módulo 8 - Administrar datos con diccionarios/ejemplo.ipynb Cell 9'\u001b[0m in \u001b[0;36m<module>\u001b[0;34m\u001b[0m\n\u001b[1;32m      <a href='vscode-notebook-cell://wsl%2Bubuntu/home/gato/personalProyects/CursoIntroPython-main/M%C3%B3dulo%208%20-%20Administrar%20datos%20con%20diccionarios/ejemplo.ipynb#ch0000008vscode-remote?line=0'>1</a>\u001b[0m wibble \u001b[39m=\u001b[39m planet\u001b[39m.\u001b[39mget(\u001b[39m'\u001b[39m\u001b[39mwibble\u001b[39m\u001b[39m'\u001b[39m) \u001b[39m# Regresa None\u001b[39;00m\n\u001b[0;32m----> <a href='vscode-notebook-cell://wsl%2Bubuntu/home/gato/personalProyects/CursoIntroPython-main/M%C3%B3dulo%208%20-%20Administrar%20datos%20con%20diccionarios/ejemplo.ipynb#ch0000008vscode-remote?line=1'>2</a>\u001b[0m wibble \u001b[39m=\u001b[39m planet[\u001b[39m'\u001b[39;49m\u001b[39mwibble\u001b[39;49m\u001b[39m'\u001b[39;49m]\n",
      "\u001b[0;31mKeyError\u001b[0m: 'wibble'"
     ]
    }
   ],
   "source": [
    "wibble = planet.get('wibble') # Regresa None\n",
    "wibble = planet['wibble'] # Arroja un KeyError"
   ]
  },
  {
   "cell_type": "markdown",
   "metadata": {},
   "source": [
    "### Modificación de valores de un diccionario"
   ]
  },
  {
   "cell_type": "code",
   "execution_count": 7,
   "metadata": {},
   "outputs": [],
   "source": [
    "planet.update({'name': 'Makemake'})\n",
    "\n",
    "# name ahora es Makemake"
   ]
  },
  {
   "cell_type": "code",
   "execution_count": 8,
   "metadata": {},
   "outputs": [],
   "source": [
    "planet['name'] = 'Makemake'"
   ]
  },
  {
   "cell_type": "code",
   "execution_count": 9,
   "metadata": {},
   "outputs": [],
   "source": [
    "# Usando update\n",
    "planet.update({\n",
    "    'name': 'Jupiter',\n",
    "    'moons': 79\n",
    "})\n",
    "\n",
    "# Usando corchetes\n",
    "planet['name'] = 'Jupiter'\n",
    "planet['moons'] = 79"
   ]
  },
  {
   "cell_type": "markdown",
   "metadata": {},
   "source": [
    "### Adición y eliminación de claves"
   ]
  },
  {
   "cell_type": "code",
   "execution_count": 10,
   "metadata": {},
   "outputs": [],
   "source": [
    "planet['orbital period'] = 4333\n",
    "\n",
    "# el diccionario planet ahora contiene: {\n",
    "#   name: 'jupiter'\n",
    "#   moons: 79\n",
    "#   orbital period: 4333\n",
    "# }"
   ]
  },
  {
   "cell_type": "code",
   "execution_count": 11,
   "metadata": {},
   "outputs": [
    {
     "data": {
      "text/plain": [
       "4333"
      ]
     },
     "execution_count": 11,
     "metadata": {},
     "output_type": "execute_result"
    }
   ],
   "source": [
    "planet.pop('orbital period')\n",
    "\n",
    "# el diccionario planet ahora contiene: {\n",
    "#   name: 'jupiter'\n",
    "#   moons: 79\n",
    "# }"
   ]
  },
  {
   "cell_type": "markdown",
   "metadata": {},
   "source": [
    "### Tipos de data complejos"
   ]
  },
  {
   "cell_type": "code",
   "execution_count": 12,
   "metadata": {},
   "outputs": [
    {
     "name": "stdout",
     "output_type": "stream",
     "text": [
      "{'name': 'Jupiter', 'moons': 79, 'diameter (km)': {'polar': 133709, 'equatorial': 142984}}\n"
     ]
    }
   ],
   "source": [
    "# Añadimos los datos\n",
    "planet['diameter (km)'] = {\n",
    "    'polar': 133709,\n",
    "    'equatorial': 142984\n",
    "}\n",
    "\n",
    "# el diccionario planet ahora contiene: {\n",
    "#   name: 'Jupiter'\n",
    "#   moons: 79\n",
    "#   diameter (km): {\n",
    "#      polar: 133709\n",
    "#      equatorial: 142984\n",
    "#   }\n",
    "# }\n",
    "print(planet)"
   ]
  },
  {
   "cell_type": "code",
   "execution_count": 18,
   "metadata": {},
   "outputs": [
    {
     "name": "stdout",
     "output_type": "stream",
     "text": [
      "Jupiter polar diameter: 133709\n"
     ]
    }
   ],
   "source": [
    "key = planet['name']\n",
    "key2 = planet['diameter (km)']['polar']\n",
    "print(f'{key} polar diameter: {key2}')\n",
    "\n",
    "# Salida: Jupiter polar diameter: 133709"
   ]
  },
  {
   "cell_type": "markdown",
   "metadata": {},
   "source": [
    "### Recuperación de todas las claves y valores"
   ]
  },
  {
   "cell_type": "code",
   "execution_count": 15,
   "metadata": {},
   "outputs": [],
   "source": [
    "rainfall = {\n",
    "    'october': 3.5,\n",
    "    'november': 4.2,\n",
    "    'december': 2.1\n",
    "}"
   ]
  },
  {
   "cell_type": "code",
   "execution_count": 16,
   "metadata": {},
   "outputs": [
    {
     "name": "stdout",
     "output_type": "stream",
     "text": [
      "october: 3.5cm\n",
      "november: 4.2cm\n",
      "december: 2.1cm\n"
     ]
    }
   ],
   "source": [
    "for key in rainfall.keys():\n",
    "    print(f'{key}: {rainfall[key]}cm')\n",
    "\n",
    "# Salida:\n",
    "# october: 3.5cm\n",
    "# november: 4.2cm\n",
    "# december: 2.1cm"
   ]
  },
  {
   "cell_type": "markdown",
   "metadata": {},
   "source": [
    "### Determinando la existencia de una clave en un diccionario"
   ]
  },
  {
   "cell_type": "code",
   "execution_count": 19,
   "metadata": {},
   "outputs": [],
   "source": [
    "# El valor de december: 2.1cm\n",
    "\n",
    "# Si, 'december' existe en rainfall\n",
    "if 'december' in rainfall:\n",
    "    # rainfall [en la posición december] es igual a\n",
    "    # rainfall [en la posición december] + 1 (2.1+1)\n",
    "    rainfall['december'] = rainfall['december'] + 1\n",
    "\n",
    "# Si no:\n",
    "else:\n",
    "\n",
    "    # rainfall [en la posición december] es igual a 1\n",
    "    rainfall['december'] = 1\n",
    "\n",
    "# Como december si existe, el valor será 3.1"
   ]
  },
  {
   "cell_type": "markdown",
   "metadata": {},
   "source": [
    "### Recuper todos los valores de un diccionario"
   ]
  },
  {
   "cell_type": "code",
   "execution_count": 20,
   "metadata": {},
   "outputs": [
    {
     "name": "stdout",
     "output_type": "stream",
     "text": [
      "There was 10.8cm in the last quarter\n"
     ]
    }
   ],
   "source": [
    "#Total de precipitaciones 0\n",
    "total_rainfall = 0\n",
    "\n",
    "# Para cada valor en los valores de rainfall\n",
    "for value in rainfall.values():\n",
    "    \n",
    "    # El total de las precipitaciones será igual a ese mismo + el valor que se está iterando\n",
    "\n",
    "    total_rainfall = total_rainfall + value\n",
    "\n",
    "# Muestra 'Hay un total de precipitaciones (el valor total) en centímetros en el último cuarto (haciendo referencia al cuarto del año)\n",
    "\n",
    "print(f'There was {total_rainfall}cm in the last quarter')\n",
    "\n",
    "# Salida:\n",
    "# There was 10.8cm in the last quarter"
   ]
  }
 ],
 "metadata": {
  "interpreter": {
   "hash": "7e1998ff7f8aa20ada591c520b972326324e5ea05489af9e422744c7c09f6dad"
  },
  "kernelspec": {
   "display_name": "Python 3.10.0 64-bit",
   "language": "python",
   "name": "python3"
  },
  "language_info": {
   "codemirror_mode": {
    "name": "ipython",
    "version": 3
   },
   "file_extension": ".py",
   "mimetype": "text/x-python",
   "name": "python",
   "nbconvert_exporter": "python",
   "pygments_lexer": "ipython3",
   "version": "3.10.0"
  },
  "orig_nbformat": 4
 },
 "nbformat": 4,
 "nbformat_minor": 2
}
